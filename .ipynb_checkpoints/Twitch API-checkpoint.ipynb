{
 "cells": [
  {
   "cell_type": "code",
   "execution_count": 1,
   "id": "86edabf6",
   "metadata": {},
   "outputs": [],
   "source": [
    "# Dependencies\n",
    "import json\n",
    "import requests\n",
    "from requests import post\n",
    "from config import client_secret, client_id"
   ]
  },
  {
   "cell_type": "code",
   "execution_count": 2,
   "id": "15f0d1da",
   "metadata": {},
   "outputs": [
    {
     "name": "stdout",
     "output_type": "stream",
     "text": [
      "{'access_token': '9kw7c4azqx142ovkbssk6373g1lgri', 'expires_in': 4990332, 'token_type': 'bearer'}\n"
     ]
    }
   ],
   "source": [
    "# URL for the POST request\n",
    "url = \"https://id.twitch.tv/oauth2/token\"\n",
    "\n",
    "# Query parameters\n",
    "params = {\n",
    "    \"client_id\": client_id,\n",
    "    \"client_secret\": client_secret,\n",
    "    \"grant_type\": \"client_credentials\"\n",
    "}\n",
    "\n",
    "# Make the POST request\n",
    "response = requests.post(url, params=params)\n",
    "\n",
    "# Print the response\n",
    "print(response.json())"
   ]
  },
  {
   "cell_type": "code",
   "execution_count": 3,
   "id": "6104d8ca",
   "metadata": {},
   "outputs": [
    {
     "name": "stdout",
     "output_type": "stream",
     "text": [
      "Error: 401 - {\n",
      "  \"message\": \"Authorization Failure. Have you tried:\",\n",
      "  \"Tip 1\":   \"Ensure you are sending Authorization and Client-ID as headers.\",\n",
      "  \"Tip 2\":   \"Ensure Authorization value starts with 'Bearer ', including the space\",\n",
      "  \"Tip 3\":   \"Ensure Authorization value ends with the App Access Token you generated, NOT your Client Secret.\",\n",
      "  \"Docs\":    \"https://api-docs.igdb.com/#authentication\",\n",
      "  \"Discord\": \"https://discord.gg/FrvfwQg\"\n",
      "}\n",
      "\n"
     ]
    }
   ],
   "source": [
    "url = 'https://api.igdb.com/v4/games'\n",
    "headers = {\n",
    "    'user-key': client_secret,\n",
    "    'Authorization': f'Bearer {client_id}',\n",
    "}\n",
    "\n",
    "# Set up the parameters for the request\n",
    "params = {\n",
    "    'fields': 'name,rating',\n",
    "    'sort': 'rating:desc',\n",
    "}\n",
    "\n",
    "# Make the API request\n",
    "response = requests.get(url, headers=headers, params=params)\n",
    "\n",
    "# Check if the request was successful (status code 200)\n",
    "if response.status_code == 200:\n",
    "    # Print the JSON response\n",
    "    print(response.json())\n",
    "else:\n",
    "    # Print the error message if the request was not successful\n",
    "    print(f\"Error: {response.status_code} - {response.text}\")"
   ]
  },
  {
   "cell_type": "code",
   "execution_count": 7,
   "id": "8c684f7f",
   "metadata": {},
   "outputs": [
    {
     "name": "stdout",
     "output_type": "stream",
     "text": [
      "response: {'message': 'Authorization Failure. Have you tried:', 'Tip 1': 'Ensure you are sending Authorization and Client-ID as headers.', 'Tip 2': \"Ensure Authorization value starts with 'Bearer ', including the space\", 'Tip 3': 'Ensure Authorization value ends with the App Access Token you generated, NOT your Client Secret.', 'Docs': 'https://api-docs.igdb.com/#authentication', 'Discord': 'https://discord.gg/FrvfwQg'}\n"
     ]
    }
   ],
   "source": [
    "response = post('https://api.igdb.com/v4/games', **{'headers': {'client_id-ID': 'client_id ID', \n",
    "                                                                'Authorization': f'Bearer {client_id}'},\n",
    "                                                    'data': 'fields age_ratings,aggregated_rating,aggregated_rating_count,\\\n",
    "                                                    alternative_names,artworks,bundles,category,checksum,collection,collections\\\n",
    "                                                    ,cover,created_at,dlcs,expanded_games,expansions,external_games,first_release_date,follows,\\\n",
    "                                                    forks,franchise,franchises,game_engines,game_localizations,game_modes,genres,hypes,\\\n",
    "                                                    involved_companies,keywords,language_supports,multiplayer_modes,name,parent_game,\\\n",
    "                                                    platforms,player_perspectives,ports,rating,rating_count,release_dates,remakes,\\\n",
    "                                                    remasters,screenshots,similar_games,slug,standalone_expansions,status,storyline,\\\n",
    "                                                    summary,tags,themes,total_rating,total_rating_count,updated_at,url,version_parent,\\\n",
    "                                                    version_title,videos,websites;'})\n",
    "print (\"response: %s\" % str(response.json()))"
   ]
  },
  {
   "cell_type": "code",
   "execution_count": null,
   "id": "f3a5d92f",
   "metadata": {},
   "outputs": [],
   "source": []
  }
 ],
 "metadata": {
  "kernelspec": {
   "display_name": "Python 3 (ipykernel)",
   "language": "python",
   "name": "python3"
  },
  "language_info": {
   "codemirror_mode": {
    "name": "ipython",
    "version": 3
   },
   "file_extension": ".py",
   "mimetype": "text/x-python",
   "name": "python",
   "nbconvert_exporter": "python",
   "pygments_lexer": "ipython3",
   "version": "3.11.5"
  }
 },
 "nbformat": 4,
 "nbformat_minor": 5
}
